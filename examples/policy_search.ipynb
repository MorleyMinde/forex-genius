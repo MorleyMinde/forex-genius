{
 "cells": [
  {
   "cell_type": "markdown",
   "metadata": {},
   "source": [
    "# Trader\n",
    "----\n",
    "\n",
    "We will use Policy Search methods with adaptive noise scaling to find the best trading strategy."
   ]
  },
  {
   "cell_type": "code",
   "execution_count": 1,
   "metadata": {},
   "outputs": [
    {
     "data": {
      "text/plain": [
       "{'divide': 'warn', 'invalid': 'warn', 'over': 'warn', 'under': 'ignore'}"
      ]
     },
     "execution_count": 1,
     "metadata": {},
     "output_type": "execute_result"
    }
   ],
   "source": [
    "import gym_trader.envs.trader as make\n",
    "import gym\n",
    "\n",
    "import numpy as np\n",
    "import pandas as pd\n",
    "\n",
    "import matplotlib.pyplot as plt\n",
    "from collections import deque\n",
    "\n",
    "np.seterr(divide='ignore', invalid='ignore')"
   ]
  },
  {
   "cell_type": "markdown",
   "metadata": {},
   "source": [
    "### Load the environment"
   ]
  },
  {
   "cell_type": "code",
   "execution_count": 2,
   "metadata": {},
   "outputs": [
    {
     "name": "stdout",
     "output_type": "stream",
     "text": [
      "observation space: Discrete(1)\n",
      "action space: Discrete(3)\n"
     ]
    }
   ],
   "source": [
    "env = make.TraderEnv()\n",
    "env.seed(0)\n",
    "\n",
    "print('observation space:', env.observation_space)\n",
    "print('action space:', env.action_space)"
   ]
  },
  {
   "cell_type": "markdown",
   "metadata": {},
   "source": [
    "### Policy "
   ]
  },
  {
   "cell_type": "code",
   "execution_count": 3,
   "metadata": {},
   "outputs": [],
   "source": [
    "class Policy():\n",
    "    def __init__(self, s_size=1, a_size=3):\n",
    "        self.w = 1e-4*np.random.rand(s_size, a_size)  # weights: state_space x action_space\n",
    "        \n",
    "    def forward(self, state):\n",
    "        return np.dot(state, self.w)\n",
    "    \n",
    "    def act(self, state):\n",
    "        probs = self.forward(state)\n",
    "        probs /= probs.sum()                             # Normalize to sum of probs == 1\n",
    "        action = np.random.choice(3, p=probs.ravel())    # option 1: stochastic policy\n",
    "        #print(probs)\n",
    "        return action"
   ]
  },
  {
   "cell_type": "code",
   "execution_count": 4,
   "metadata": {},
   "outputs": [
    {
     "name": "stdout",
     "output_type": "stream",
     "text": [
      "Interval 500\tAverage Score: -0.24\n",
      "Interval 1000\tAverage Score: 0.04\n",
      "Interval 1500\tAverage Score: -0.10\n",
      "Interval 2000\tAverage Score: -0.02\n",
      "Interval 2500\tAverage Score: -0.04\n",
      "Interval 3000\tAverage Score: -0.01\n",
      "Interval 3500\tAverage Score: -0.12\n",
      "Interval 4000\tAverage Score: -0.11\n",
      "Interval 4500\tAverage Score: -0.05\n",
      "Interval 5000\tAverage Score: -0.11\n",
      "Profit:  1435\n"
     ]
    }
   ],
   "source": [
    "policy = Policy()\n",
    "\n",
    "def trader(episodes=5000, gamma=0.1, print_every=500, noise_scale=1e-5):\n",
    "\n",
    "    scores_deque = deque()\n",
    "    scores = []\n",
    "    best_R = -np.Inf\n",
    "    best_w = policy.w \n",
    "\n",
    "    for episode in range(1, episodes+1):\n",
    "        state = env.reset()\n",
    "        rewards = []\n",
    "        done = False\n",
    "\n",
    "        while not done:            \n",
    "            action = policy.act(state)\n",
    "            state, reward, done, _ = env.step(action)   \n",
    "            rewards.append(np.round(reward, 2))\n",
    "            #print('Action', action, 'Price', state, 'Reward', reward, _['balance'], done)\n",
    "            if done:\n",
    "                break \n",
    "\n",
    "        scores_deque.append(sum(rewards))\n",
    "        scores.append(sum(rewards))\n",
    "\n",
    "        discounts = [gamma**i for i in range(len(rewards)+1)]\n",
    "        R = sum([a*b for a,b in zip(discounts, rewards)])\n",
    "        \n",
    "        if R >= best_R: # found better weights\n",
    "            best_R = R\n",
    "            best_w = policy.w\n",
    "            noise_scale = max(1e-3, noise_scale / 2)\n",
    "            policy.w += noise_scale * np.random.rand(*policy.w.shape) \n",
    "        else: # did not find better weights\n",
    "            noise_scale = min(2, noise_scale * 2)\n",
    "            policy.w = best_w + noise_scale * np.random.rand(*policy.w.shape)\n",
    "\n",
    "        if episode % print_every == 0:\n",
    "            print('Interval {}\\tAverage Score: {:.2f}'.format(episode, np.mean(scores_deque)))\n",
    "\n",
    "        if np.mean(scores_deque)>=100.0:\n",
    "            print('Target Achieved! in {:d} intervals!\\tAverage Score: {:.2f}'.format(episode, np.mean(scores_deque)))\n",
    "            policy.w = best_w\n",
    "            break\n",
    "        \n",
    "     \n",
    "            \n",
    "    print('Profit: ', _['balance'] - 1000)\n",
    "    return scores\n",
    "\n",
    "scores = trader()"
   ]
  },
  {
   "cell_type": "markdown",
   "metadata": {},
   "source": [
    "### Plot the Scores"
   ]
  },
  {
   "cell_type": "code",
   "execution_count": 5,
   "metadata": {},
   "outputs": [
    {
     "data": {
      "image/png": "[encoded data removed]",
      "text/plain": [
       "<Figure size 432x288 with 1 Axes>"
      ]
     },
     "metadata": {},
     "output_type": "display_data"
    }
   ],
   "source": [
    "fig = plt.figure()\n",
    "ax = fig.add_subplot(111)\n",
    "plt.plot(np.arange(1, len(scores)+1), scores)\n",
    "plt.ylabel('Score')\n",
    "plt.xlabel('Episode #')\n",
    "plt.show()"
   ]
  },
  {
   "cell_type": "markdown",
   "metadata": {},
   "source": [
    "### Trader in Action"
   ]
  },
  {
   "cell_type": "code",
   "execution_count": 6,
   "metadata": {},
   "outputs": [
    {
     "name": "stdout",
     "output_type": "stream",
     "text": [
      "Action 0 Price 115.3 Reward 0 Volume 10 balance 1000 False\n",
      "Action 0 Price 116.21 Reward 0 Volume 10 balance 1000 False\n",
      "Action 1 Price 116.33 Reward 1 Volume 11 balance 883 False\n",
      "Action 1 Price 117.48 Reward -1 Volume 12 balance 766 False\n",
      "Action 1 Price 118.58 Reward -1 Volume 13 balance 647 False\n",
      "Action 1 Price 119.35 Reward -1 Volume 14 balance 528 False\n",
      "Action 2 Price 118.96 Reward 1 Volume 13 balance 647 False\n",
      "Action 0 Price 119.05 Reward 0 Volume 13 balance 647 False\n",
      "Action 1 Price 119.61 Reward 1 Volume 14 balance 527 False\n",
      "Action 1 Price 119.6 Reward -1 Volume 15 balance 408 False\n",
      "Action 1 Price 119.98 Reward -1 Volume 16 balance 288 False\n",
      "Action 2 Price 119.4 Reward 1 Volume 15 balance 407 False\n",
      "Action 2 Price 119.95 Reward -1 Volume 14 balance 527 False\n",
      "Action 0 Price 120.04 Reward 0 Volume 14 balance 527 False\n",
      "Action 0 Price 119.56 Reward 0 Volume 14 balance 527 False\n",
      "Action 1 Price 122.06 Reward 1 Volume 15 balance 405 False\n",
      "Action 0 Price 122.0 Reward 0 Volume 15 balance 405 False\n",
      "Action 1 Price 122.27 Reward -1 Volume 16 balance 283 False\n",
      "Action 0 Price 121.42 Reward 0 Volume 16 balance 283 False\n",
      "Action 0 Price 121.3 Reward 0 Volume 16 balance 283 False\n",
      "Action 2 Price 127.82 Reward 1 Volume 15 balance 410 False\n",
      "Action 0 Price 129.02 Reward 0 Volume 15 balance 410 False\n",
      "Action 2 Price 129.02 Reward -1 Volume 14 balance 539 False\n",
      "Action 2 Price 130.01 Reward -1 Volume 13 balance 669 False\n",
      "Action 1 Price 131.01 Reward 1 Volume 14 balance 538 False\n",
      "Action 2 Price 131.72 Reward 1 Volume 13 balance 670 False\n",
      "Action 2 Price 131.7 Reward -1 Volume 12 balance 802 False\n",
      "Action 0 Price 132.94 Reward 0 Volume 12 balance 802 False\n",
      "Action 2 Price 133.05 Reward -1 Volume 11 balance 935 False\n",
      "Action 2 Price 134.86 Reward -1 Volume 10 balance 1070 False\n",
      "Action 1 Price 135.34 Reward 1 Volume 11 balance 934 False\n",
      "Action 2 Price 135.81 Reward 1 Volume 10 balance 1070 False\n",
      "Action 2 Price 135.27 Reward -1 Volume 9 balance 1205 False\n",
      "Action 1 Price 136.41 Reward 1 Volume 10 balance 1069 False\n",
      "Action 0 Price 137.04 Reward 0 Volume 10 balance 1069 False\n",
      "Action 0 Price 137.04 Reward 0 Volume 10 balance 1069 False\n",
      "Action 0 Price 135.62 Reward 0 Volume 10 balance 1069 False\n",
      "Action 2 Price 136.33 Reward 1 Volume 9 balance 1205 False\n",
      "Action 1 Price 137.24 Reward 1 Volume 10 balance 1068 False\n",
      "Action 0 Price 138.09 Reward 0 Volume 10 balance 1068 False\n",
      "Action 0 Price 138.77 Reward 0 Volume 10 balance 1068 False\n",
      "Action 2 Price 139.26 Reward 1 Volume 9 balance 1207 False\n",
      "Action 2 Price 138.64 Reward -1 Volume 8 balance 1346 False\n",
      "Action 2 Price 139.6 Reward -1 Volume 7 balance 1486 False\n",
      "Action 2 Price 139.49 Reward -1 Volume 6 balance 1625 False\n",
      "Action 1 Price 137.99 Reward 1 Volume 7 balance 1487 False\n",
      "Action 0 Price 138.83 Reward 0 Volume 7 balance 1487 False\n",
      "Action 1 Price 139.16 Reward -1 Volume 8 balance 1348 False\n",
      "Action 1 Price 139.43 Reward -1 Volume 9 balance 1209 False\n",
      "Action 0 Price 140.08 Reward 0 Volume 9 balance 1209 False\n",
      "Action 0 Price 140.56 Reward 0 Volume 9 balance 1209 False\n",
      "Action 1 Price 139.9 Reward -1 Volume 10 balance 1069 False\n",
      "Action 2 Price 140.41 Reward 1 Volume 9 balance 1209 False\n",
      "Action 1 Price 141.97 Reward 1 Volume 10 balance 1067 False\n",
      "Action 0 Price 141.4 Reward 0 Volume 10 balance 1067 False\n",
      "Action 0 Price 141.28 Reward 0 Volume 10 balance 1067 False\n",
      "Action 2 Price 140.53 Reward 1 Volume 9 balance 1208 False\n",
      "Action 0 Price 140.95 Reward 0 Volume 9 balance 1208 False\n",
      "Action 1 Price 143.08 Reward 1 Volume 10 balance 1065 False\n",
      "Action 1 Price 144.01 Reward -1 Volume 11 balance 921 False\n",
      "Action 1 Price 144.26 Reward -1 Volume 12 balance 776 False\n",
      "Action 1 Price 143.42 Reward -1 Volume 13 balance 633 False\n",
      "Action 2 Price 143.52 Reward 1 Volume 12 balance 776 False\n",
      "Action 1 Price 144.11 Reward 1 Volume 13 balance 632 False\n",
      "Action 1 Price 144.26 Reward -1 Volume 14 balance 488 False\n",
      "Action 0 Price 144.0 Reward 0 Volume 14 balance 488 False\n",
      "Action 1 Price 144.16 Reward -1 Volume 15 balance 344 False\n",
      "Action 0 Price 143.84 Reward 0 Volume 15 balance 344 False\n",
      "Action 1 Price 142.54 Reward -1 Volume 16 balance 201 False\n",
      "Action 0 Price 141.72 Reward 0 Volume 16 balance 201 False\n",
      "Action 2 Price 141.18 Reward 1 Volume 15 balance 342 False\n",
      "Action 1 Price 141.58 Reward 1 Volume 16 balance 201 False\n",
      "Action 0 Price 141.98 Reward 0 Volume 16 balance 201 False\n",
      "Action 0 Price 140.78 Reward 0 Volume 16 balance 201 False\n",
      "Action 2 Price 142.7 Reward 1 Volume 15 balance 344 False\n",
      "Action 0 Price 142.65 Reward 0 Volume 15 balance 344 False\n",
      "Action 1 Price 143.47 Reward 1 Volume 16 balance 200 False\n",
      "Action 2 Price 144.35 Reward 1 Volume 15 balance 344 False\n",
      "Action 0 Price 143.93 Reward 0 Volume 15 balance 344 False\n",
      "Action 0 Price 143.56 Reward 0 Volume 15 balance 344 False\n",
      "Action 2 Price 143.87 Reward -1 Volume 14 balance 488 False\n",
      "Action 2 Price 145.12 Reward -1 Volume 13 balance 633 False\n",
      "Action 0 Price 147.4 Reward 0 Volume 13 balance 633 False\n",
      "Action 1 Price 145.66 Reward 1 Volume 14 balance 488 False\n",
      "Action 0 Price 146.13 Reward 0 Volume 14 balance 488 False\n",
      "Action 1 Price 147.61 Reward -1 Volume 15 balance 340 False\n",
      "Action 2 Price 152.28 Reward 1 Volume 14 balance 492 False\n",
      "Action 2 Price 154.52 Reward -1 Volume 13 balance 647 False\n",
      "Action 0 Price 152.7 Reward 0 Volume 13 balance 647 False\n",
      "Action 0 Price 153.15 Reward 0 Volume 13 balance 647 False\n",
      "Action 2 Price 155.7 Reward -1 Volume 12 balance 803 False\n",
      "Action 2 Price 155.45 Reward -1 Volume 11 balance 958 False\n",
      "Action 2 Price 155.1 Reward -1 Volume 10 balance 1113 False\n",
      "Action 2 Price 150.23 Reward -1 Volume 9 balance 1263 False\n",
      "Action 2 Price 151.67 Reward -1 Volume 8 balance 1415 False\n",
      "Action 1 Price 153.58 Reward 1 Volume 9 balance 1262 False\n",
      "Action 0 Price 153.25 Reward 0 Volume 9 balance 1262 False\n",
      "Action 1 Price 154.08 Reward -1 Volume 10 balance 1107 False\n",
      "Action 1 Price 153.52 Reward -1 Volume 11 balance 954 False\n",
      "Action 0 Price 154.26 Reward 0 Volume 11 balance 954 False\n",
      "Action 0 Price 154.03 Reward 0 Volume 11 balance 954 False\n",
      "Action 0 Price 154.31 Reward 0 Volume 11 balance 954 False\n",
      "Action 0 Price 152.81 Reward 0 Volume 11 balance 954 False\n",
      "Action 1 Price 152.78 Reward -1 Volume 12 balance 801 False\n",
      "Action 2 Price 153.03 Reward 1 Volume 11 balance 954 False\n",
      "Action 1 Price 153.68 Reward 1 Volume 12 balance 801 False\n",
      "Action 1 Price 154.74 Reward -1 Volume 13 balance 646 False\n",
      "Action 0 Price 155.59 Reward 0 Volume 13 balance 646 False\n",
      "Action 2 Price 155.31 Reward 1 Volume 12 balance 801 False\n",
      "Action 0 Price 154.22 Reward 0 Volume 12 balance 801 False\n",
      "Action 2 Price 142.67 Reward -1 Volume 11 balance 944 False\n",
      "Action 1 Price 147.41 Reward 1 Volume 12 balance 796 False\n",
      "Action 2 Price 143.94 Reward 1 Volume 11 balance 940 False\n",
      "Action 0 Price 143.2 Reward 0 Volume 11 balance 940 False\n",
      "Action 2 Price 143.32 Reward -1 Volume 10 balance 1084 False\n",
      "Action 1 Price 145.8 Reward 1 Volume 11 balance 938 False\n",
      "Action 1 Price 145.4 Reward -1 Volume 12 balance 792 False\n",
      "Action 0 Price 144.77 Reward 0 Volume 12 balance 792 False\n",
      "Action 2 Price 145.57 Reward 1 Volume 11 balance 938 False\n",
      "Action 1 Price 146.47 Reward 1 Volume 12 balance 792 False\n",
      "Action 0 Price 148.13 Reward 0 Volume 12 balance 792 False\n",
      "Action 2 Price 144.31 Reward 1 Volume 11 balance 936 False\n",
      "Action 0 Price 144.63 Reward 0 Volume 11 balance 936 False\n",
      "Action 2 Price 143.63 Reward -1 Volume 10 balance 1079 False\n",
      "Action 0 Price 144.76 Reward 0 Volume 10 balance 1079 False\n",
      "Action 2 Price 144.01 Reward -1 Volume 9 balance 1223 False\n",
      "Action 0 Price 143.73 Reward 0 Volume 9 balance 1223 False\n",
      "Action 1 Price 143.31 Reward 1 Volume 10 balance 1080 False\n",
      "Action 1 Price 143.84 Reward -1 Volume 11 balance 936 False\n",
      "Action 2 Price 143.94 Reward 1 Volume 10 balance 1080 False\n",
      "Action 2 Price 144.64 Reward -1 Volume 9 balance 1225 False\n",
      "Action 2 Price 145.21 Reward -1 Volume 8 balance 1370 False\n",
      "Action 0 Price 146.78 Reward 0 Volume 8 balance 1370 False\n",
      "Action 2 Price 148.41 Reward -1 Volume 7 balance 1519 False\n",
      "Action 1 Price 150.23 Reward 1 Volume 8 balance 1368 False\n",
      "Action 2 Price 149.93 Reward 1 Volume 7 balance 1518 False\n",
      "Action 2 Price 149.98 Reward -1 Volume 6 balance 1668 False\n",
      "Action 1 Price 150.98 Reward 1 Volume 7 balance 1517 False\n",
      "Action 0 Price 150.16 Reward 0 Volume 7 balance 1517 False\n",
      "Action 0 Price 152.11 Reward 0 Volume 7 balance 1517 False\n",
      "Action 2 Price 153.3 Reward 1 Volume 6 balance 1671 False\n",
      "Action 0 Price 153.87 Reward 0 Volume 6 balance 1671 False\n",
      "Action 0 Price 151.83 Reward 0 Volume 6 balance 1671 False\n",
      "Action 2 Price 150.14 Reward -1 Volume 5 balance 1821 False\n",
      "Action 2 Price 150.3 Reward -1 Volume 4 balance 1971 False\n",
      "Action 0 Price 149.71 Reward 0 Volume 4 balance 1971 False\n",
      "Action 1 Price 158.01 Reward 1 Volume 5 balance 1813 False\n",
      "Action 2 Price 156.89 Reward 1 Volume 4 balance 1970 False\n",
      "Action 0 Price 155.8 Reward 0 Volume 4 balance 1970 False\n",
      "Action 1 Price 157.4 Reward 1 Volume 5 balance 1812 False\n",
      "Action 2 Price 161.57 Reward 1 Volume 4 balance 1974 False\n",
      "Action 0 Price 159.5 Reward 0 Volume 4 balance 1974 False\n",
      "Action 0 Price 159.77 Reward 0 Volume 4 balance 1974 False\n",
      "Action 2 Price 156.21 Reward -1 Volume 3 balance 2130 False\n",
      "Action 0 Price 160.08 Reward 0 Volume 3 balance 2130 False\n",
      "Action 2 Price 161.3 Reward -1 Volume 2 balance 2292 False\n",
      "Action 2 Price 162.29 Reward -1 Volume 1 balance 2454 False\n",
      "Action 1 Price 159.39 Reward 1 Volume 2 balance 2294 False\n",
      "Action 0 Price 157.63 Reward 0 Volume 2 balance 2294 False\n",
      "Action 2 Price 156.95 Reward 1 Volume 1 balance 2451 False\n",
      "Action 2 Price 158.34 Reward -1 Volume 0 balance 2610 True\n",
      "Profit 1610\n"
     ]
    }
   ],
   "source": [
    "state = env.reset()\n",
    "\n",
    "done = False\n",
    "while not done:\n",
    "    action = policy.act(state)\n",
    "\n",
    "    state, reward, done, _ = env.step(action)\n",
    "    print('Action', action, 'Price', state, 'Reward', reward, 'Volume', _['volume'], 'balance', _['balance'], done)\n",
    "    if done:\n",
    "        print('Profit', _['balance'] - 1000)\n",
    "        break \n",
    "\n"
   ]
  },
  {
   "cell_type": "code",
   "execution_count": null,
   "metadata": {},
   "outputs": [],
   "source": []
  }
 ],
 "metadata": {
  "kernelspec": {
   "display_name": "gym",
   "language": "python",
   "name": "gym"
  },
  "language_info": {
   "codemirror_mode": {
    "name": "ipython",
    "version": 3
   },
   "file_extension": ".py",
   "mimetype": "text/x-python",
   "name": "python",
   "nbconvert_exporter": "python",
   "pygments_lexer": "ipython3",
   "version": "3.5.4"
  }
 },
 "nbformat": 4,
 "nbformat_minor": 2
}
