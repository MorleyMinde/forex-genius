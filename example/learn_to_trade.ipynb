{
 "cells": [
  {
   "cell_type": "code",
   "execution_count": 11,
   "metadata": {},
   "outputs": [],
   "source": [
    "import gym_trader.envs.trader as make\n",
    "import gym\n",
    "\n",
    "import numpy as np\n",
    "import pandas as pd\n",
    "\n",
    "import matplotlib.pyplot as plt\n",
    "from collections import deque"
   ]
  },
  {
   "cell_type": "markdown",
   "metadata": {},
   "source": [
    "### Load the environment"
   ]
  },
  {
   "cell_type": "code",
   "execution_count": 12,
   "metadata": {},
   "outputs": [
    {
     "name": "stdout",
     "output_type": "stream",
     "text": [
      "observation space: Discrete(1)\n",
      "action space: Discrete(3)\n"
     ]
    }
   ],
   "source": [
    "env = make.TraderEnv()\n",
    "env.seed(0)\n",
    "\n",
    "print('observation space:', env.observation_space)\n",
    "print('action space:', env.action_space)"
   ]
  },
  {
   "cell_type": "markdown",
   "metadata": {},
   "source": [
    "### Policy based method"
   ]
  },
  {
   "cell_type": "code",
   "execution_count": 23,
   "metadata": {},
   "outputs": [],
   "source": [
    "class Policy():\n",
    "    def __init__(self, s_size=1, a_size=3):\n",
    "        self.w = 1e-4*np.random.rand(a_size, s_size)  # weights for simple linear policy: state_space x action_space\n",
    "        \n",
    "    def forward(self, state):\n",
    "        x = np.dot(state, self.w) \n",
    "        return np.exp(x)/sum(np.exp(x))\n",
    "    \n",
    "    def act(self, state):\n",
    "        probs = self.forward(state)\n",
    "        \n",
    "        #action = np.random.choice(3, p=probs.ravel()) # option 1: stochastic policy\n",
    "        action = np.argmax(probs)                    # option 2: deterministic policy\n",
    "        return action"
   ]
  },
  {
   "cell_type": "code",
   "execution_count": 24,
   "metadata": {},
   "outputs": [
    {
     "name": "stdout",
     "output_type": "stream",
     "text": [
      "Interval 100\tAverage Score: -7.84\n",
      "Interval 200\tAverage Score: -3.92\n",
      "Interval 300\tAverage Score: -2.61\n",
      "Interval 400\tAverage Score: -16.59\n",
      "Interval 500\tAverage Score: -13.53\n",
      "Interval 600\tAverage Score: -11.28\n",
      "Interval 700\tAverage Score: -9.67\n",
      "Interval 800\tAverage Score: -8.46\n",
      "Interval 900\tAverage Score: -7.52\n",
      "Interval 1000\tAverage Score: -6.77\n"
     ]
    }
   ],
   "source": [
    "policy = Policy()\n",
    "\n",
    "def trading(episodes=1000, gamma=0.6, print_every=100, noise_scale=1e-3):\n",
    "    \n",
    "    scores_deque = deque()\n",
    "    scores = []\n",
    "    best_R = -np.Inf\n",
    "    best_w = policy.w \n",
    "   \n",
    "    for episode in range(1, episodes+1):\n",
    "        state = env.reset()\n",
    "        rewards = []\n",
    "        done = False\n",
    "        \n",
    "        while not done:            \n",
    "            action = policy.act(state)\n",
    "            state, reward, done, _ = env.step(action)   \n",
    "            rewards.append(reward)\n",
    "            #print('action', action, 'state', state, 'reward', reward, 'volume', _['volume'], 'balance', _['balance'], done )\n",
    "            if done:\n",
    "                break \n",
    "                \n",
    "        scores_deque.append(sum(rewards))\n",
    "        scores.append(sum(rewards))\n",
    "\n",
    "        discounts = [gamma**i for i in range(len(rewards)+1)]\n",
    "        R = sum([a*b for a,b in zip(discounts, rewards)])\n",
    "\n",
    "        if R >= best_R: # found better weights\n",
    "            best_R = R\n",
    "            best_w = policy.w\n",
    "            noise_scale = max(1e-3, noise_scale / 2)\n",
    "            policy.w += noise_scale * np.random.rand(*policy.w.shape) \n",
    "        else: # did not find better weights\n",
    "            noise_scale = min(2, noise_scale * 2)\n",
    "            policy.w = best_w + noise_scale * np.random.rand(*policy.w.shape)\n",
    "\n",
    "        if episode % print_every == 0:\n",
    "            print('Interval {}\\tAverage Score: {:.2f}'.format(episode, np.mean(scores_deque)))\n",
    "\n",
    "        if np.mean(scores_deque)>=100.0:\n",
    "            print('Target Achieved! in {:d} intervals!\\tAverage Score: {:.2f}'.format(episode, np.mean(scores_deque)))\n",
    "            policy.w = best_w\n",
    "            break\n",
    "               \n",
    "    return scores\n",
    "            \n",
    "scores = trading()"
   ]
  },
  {
   "cell_type": "markdown",
   "metadata": {},
   "source": [
    "### Plot the scores"
   ]
  },
  {
   "cell_type": "code",
   "execution_count": 17,
   "metadata": {},
   "outputs": [
    {
     "data": {
      "image/png": "[encoded data removed]",
      "text/plain": [
       "<Figure size 432x288 with 1 Axes>"
      ]
     },
     "metadata": {},
     "output_type": "display_data"
    }
   ],
   "source": [
    "fig = plt.figure()\n",
    "ax = fig.add_subplot(111)\n",
    "plt.plot(np.arange(1, len(scores)+1), scores)\n",
    "plt.ylabel('Score')\n",
    "plt.xlabel('Episode #')\n",
    "plt.show()"
   ]
  },
  {
   "cell_type": "code",
   "execution_count": null,
   "metadata": {},
   "outputs": [],
   "source": []
  }
 ],
 "metadata": {
  "kernelspec": {
   "display_name": "gym",
   "language": "python",
   "name": "gym"
  },
  "language_info": {
   "codemirror_mode": {
    "name": "ipython",
    "version": 3
   },
   "file_extension": ".py",
   "mimetype": "text/x-python",
   "name": "python",
   "nbconvert_exporter": "python",
   "pygments_lexer": "ipython3",
   "version": "3.5.4"
  }
 },
 "nbformat": 4,
 "nbformat_minor": 2
}
